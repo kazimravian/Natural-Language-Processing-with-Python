{
  "nbformat": 4,
  "nbformat_minor": 0,
  "metadata": {
    "colab": {
      "provenance": []
    },
    "kernelspec": {
      "name": "python3",
      "display_name": "Python 3"
    },
    "language_info": {
      "name": "python"
    },
    "accelerator": "GPU",
    "gpuClass": "standard"
  },
  "cells": [
    {
      "cell_type": "markdown",
      "source": [
        "<h1><b><font size = '6' color = 'brown'>\n",
        "Introduction to Natural Language Processing\n",
        "</font></b></h1>"
      ],
      "metadata": {
        "id": "0QZ_mmlZZBwT"
      }
    },
    {
      "cell_type": "markdown",
      "source": [
        "<h2>\n",
        "<b>\n",
        "\n",
        "<ul>\n",
        "<font size = '4' color = 'brown green'>\n",
        "\n",
        "<li>\n",
        "What natural language is? in simple terms, it is a means for us to express our thoughts and ideas. To define it more specifically, language is a mutually agreed upon set of protocols involving words/sounds that we use to communicate with each other.\n",
        "</li>\n",
        "\n",
        "<br>\n",
        "<li>\n",
        "In this era of digitization and computation, we are constantly interacting with\n",
        "machines around us through various means, such as voice commands and typing instructions in the form of words. Thus, it has become essential to develop mechanisms by which human language can be comprehended accurately by computers. NLP helps us do this.\n",
        "</li>\n",
        "\n",
        "<br>\n",
        "<li>\n",
        "So, NLP can be defined as a field of computer science that is concerned with enabling computer algorithms to understand, analyze, and generate natural languages.\n",
        "</li>\n",
        "\n",
        "<br>\n",
        "<li>\n",
        "Let's look at an example. You have probably interacted with Siri or Alexa at some point. Ask Alexa for a cricket score, and it will reply with the current score. The technology behind this is NLP.\n",
        "</li>\n",
        "\n",
        "<br>\n",
        "<li>\n",
        "Siri and Alexa use techniques such as Speech to Text with the help of a search engine to do this magic. As the name suggests, Speech to Text is an application of NLP in which computers are trained to understand verbally spoken words.\n",
        "</li>\n",
        "\n",
        "<br>\n",
        "<li>\n",
        "NLP works at different levels, which means that machines process and understand\n",
        "natural language at different levels. These levels are as follows:<br><br>\n",
        "\n",
        "<ul>\n",
        "<font size = '4' color = 'red'>\n",
        "<li>\n",
        "Morphological level: This level deals with understanding word structure and\n",
        "word information.\n",
        "</li>\n",
        "\n",
        "<br>\n",
        "<li>\n",
        "Lexical level: This level deals with understanding the part of speech of the word.\n",
        "</li>\n",
        "\n",
        "<br>\n",
        "<li>\n",
        "Syntactic level: This level deals with understanding the syntactic analysis of a\n",
        "sentence, or parsing a sentence.\n",
        "</li>\n",
        "\n",
        "<br>\n",
        "<li>\n",
        "Semantic level: This level deals with understanding the actual meaning\n",
        "of a sentence.\n",
        "</li>\n",
        "\n",
        "<br>\n",
        "<li>\n",
        "Discourse level: This level deals with understanding the meaning of a sentence\n",
        "beyond just the sentence level, that is, considering the context.\n",
        "</li>\n",
        "\n",
        "<br>\n",
        "<li>\n",
        "Pragmatic level: This level deals with using real-world knowledge to understand\n",
        "the sentence.\n",
        "</li>\n",
        "\n",
        "</ul>\n",
        "\n",
        "</li>\n",
        "\n",
        "</font>\n",
        "</ul>\n",
        "\n",
        "</b>\n",
        "</h2>"
      ],
      "metadata": {
        "id": "dqO7BIE9ZvxV"
      }
    },
    {
      "cell_type": "code",
      "source": [],
      "metadata": {
        "id": "KI8a0JBICQoh"
      },
      "execution_count": null,
      "outputs": []
    }
  ]
}