{
  "nbformat": 4,
  "nbformat_minor": 0,
  "metadata": {
    "colab": {
      "provenance": []
    },
    "kernelspec": {
      "name": "python3",
      "display_name": "Python 3"
    },
    "language_info": {
      "name": "python"
    },
    "accelerator": "GPU",
    "gpuClass": "standard"
  },
  "cells": [
    {
      "cell_type": "markdown",
      "source": [
        "<h1><b><font color = 'brown' size = '6'>\n",
        "Word Sense Disambiguation Using the Lesk Algorithm\n",
        "</font></b></h1>"
      ],
      "metadata": {
        "id": "g30UjW7xCnPy"
      }
    },
    {
      "cell_type": "markdown",
      "source": [
        "<h2>\n",
        "<b>\n",
        "\n",
        "<ul>\n",
        "<font color = 'brown green' size = '5'>\n",
        "\n",
        "<li>\n",
        "The Lesk algorithm is used for resolving word sense disambiguation.\n",
        "</li><br>\n",
        "\n",
        "<li>\n",
        "Suppose we have a sentence such as \"On the bank of river Ganga, there lies the scent of spirituality\" and another sentence, \"I'm going to withdraw some cash from the bank\".\n",
        "</li><br>\n",
        "\n",
        "<li>\n",
        "Here, the same word—that is, \"bank\"—is used in two different contexts.\n",
        "</li><br>\n",
        "\n",
        "<li>\n",
        "For text processing results to be accurate, the context of the words needs to be considered.\n",
        "</li><br>\n",
        "\n",
        "<li>\n",
        "In the Lesk algorithm, words with ambiguous meanings are stored in the background in synsets.\n",
        "</li><br>\n",
        "\n",
        "<li>\n",
        "The definition that is closer to the meaning of a word being used in the\n",
        "context of the sentence will be taken as the right definition.\n",
        "</li><br>\n",
        "\n",
        "<li>\n",
        "Let's perform a simple exercise to get a better idea of how we can implement this.\n",
        "</li><br>\n",
        "\n",
        "</font>\n",
        "</ul>\n",
        "</b>\n",
        "</h2>"
      ],
      "metadata": {
        "id": "0uclDav8wec7"
      }
    },
    {
      "cell_type": "markdown",
      "source": [
        "<h1><b><font color = 'brown'>\n",
        "Exercise: Implementing the Lesk Algorithm Using String Similarity and\n",
        "Text Vectorization\n",
        "</font></b></h1>"
      ],
      "metadata": {
        "id": "Xo16NUrkcyL3"
      }
    },
    {
      "cell_type": "markdown",
      "source": [
        "<b>In this exercise, we are going to implement the Lesk algorithm step by step using the techniques we have learned so far. <br>\n",
        "\n",
        "We will find the meaning of the word \"bank\" in the sentence, \"On the banks of river Ganga, there lies the scent of spirituality.\"<br>\n",
        "\n",
        "We will use cosine similarity as well as Jaccard similarity here. Follow these steps to complete this exercise: <b>"
      ],
      "metadata": {
        "id": "ff07359Fc8G_"
      }
    },
    {
      "cell_type": "markdown",
      "source": [
        "1. Open a Jupyter or Colab Notebook."
      ],
      "metadata": {
        "id": "7ro0um7HdbnB"
      }
    },
    {
      "cell_type": "markdown",
      "source": [
        "2. Insert a new cell and add the following code to import the necessary libraries:"
      ],
      "metadata": {
        "id": "_qoSgDd1diCR"
      }
    },
    {
      "cell_type": "code",
      "source": [
        "import pandas as pd\n",
        "import nltk\n",
        "from sklearn.metrics.pairwise import cosine_similarity\n",
        "from nltk import word_tokenize\n",
        "from sklearn.feature_extraction.text import TfidfVectorizer\n",
        "from sklearn.datasets import fetch_20newsgroups\n",
        "import numpy as np"
      ],
      "metadata": {
        "id": "jUXQE5JPcu0T"
      },
      "execution_count": null,
      "outputs": []
    },
    {
      "cell_type": "markdown",
      "source": [
        "3. Define a method for getting the TFIDF vectors of a corpus:"
      ],
      "metadata": {
        "id": "yk8Wwpx_dnfP"
      }
    },
    {
      "cell_type": "code",
      "source": [
        "def get_tf_idf_vectors(corpus):\n",
        "\n",
        "    vectorizer = TfidfVectorizer()\n",
        "    tf_idf_vectors = vectorizer.fit_transform(corpus)\n",
        "\n",
        "    return tf_idf_vectors.toarray()"
      ],
      "metadata": {
        "id": "QMquyQj0dt3S"
      },
      "execution_count": null,
      "outputs": []
    },
    {
      "cell_type": "markdown",
      "source": [
        "4. Define a method to convert the corpus into lowercase:"
      ],
      "metadata": {
        "id": "dCAdB2GCdufO"
      }
    },
    {
      "cell_type": "code",
      "source": [
        "def to_lower_case(corpus):\n",
        "\n",
        "    return [sentence.lower() for sentence in corpus]"
      ],
      "metadata": {
        "id": "SApNwKt9dyVd"
      },
      "execution_count": null,
      "outputs": []
    },
    {
      "cell_type": "markdown",
      "source": [
        "5. Define a method to find the similarity between the sentence and the possible\n",
        "definitions and return the definition with the highest similarity score:"
      ],
      "metadata": {
        "id": "rdOSDRnWdy6j"
      }
    },
    {
      "cell_type": "code",
      "source": [
        "def find_sentence_definition(sent_vector, definition_vectors):\n",
        "\n",
        "    max_score = -np.inf\n",
        "    definition_id = None\n",
        "\n",
        "    for key, def_vector in definition_vectors.items():\n",
        "        similarity_score = cosine_similarity(sent_vector.reshape(1, -1), def_vector.reshape(1, -1))\n",
        "        if similarity_score > max_score:\n",
        "            max_score = similarity_score\n",
        "            definition_id = key\n",
        "\n",
        "    return definition_id, max_score"
      ],
      "metadata": {
        "id": "WA7mvEoteA99"
      },
      "execution_count": null,
      "outputs": []
    },
    {
      "cell_type": "markdown",
      "source": [
        "6. Define a corpus with random sentences with the sentence and the two\n",
        "definitions as the top three sentences:"
      ],
      "metadata": {
        "id": "Z7PKUfZpeCdr"
      }
    },
    {
      "cell_type": "code",
      "source": [
        "corpus = [\"On the banks of river Ganga, there lies the scent of spirituality\",\n",
        "          \"An institute where people can store extra cash or money.\",\n",
        "          \"The land alongside or sloping down to a river or lake\"\n",
        "           \"What you do defines you\",\n",
        "           \"Your deeds define you\",\n",
        "           \"Once upon a time there lived a king.\",\n",
        "           \"Who is your queen?\",\n",
        "            \"He is desperate\",\n",
        "           \"Is he not desperate?\"]\n",
        "corpus"
      ],
      "metadata": {
        "id": "j6k3P_rFeIn1",
        "colab": {
          "base_uri": "https://localhost:8080/"
        },
        "outputId": "e94e94fa-5aa0-4a41-b950-b07101c26998"
      },
      "execution_count": null,
      "outputs": [
        {
          "output_type": "execute_result",
          "data": {
            "text/plain": [
              "['On the banks of river Ganga, there lies the scent of spirituality',\n",
              " 'An institute where people can store extra cash or money.',\n",
              " 'The land alongside or sloping down to a river or lakeWhat you do defines you',\n",
              " 'Your deeds define you',\n",
              " 'Once upon a time there lived a king.',\n",
              " 'Who is your queen?',\n",
              " 'He is desperate',\n",
              " 'Is he not desperate?']"
            ]
          },
          "metadata": {},
          "execution_count": 5
        }
      ]
    },
    {
      "cell_type": "markdown",
      "source": [
        "7. Use the previously defined methods to find the definition of the word bank:"
      ],
      "metadata": {
        "id": "fbDwHf7SeJUY"
      }
    },
    {
      "cell_type": "code",
      "source": [
        "lower_case_corpus = to_lower_case(corpus)\n",
        "lower_case_corpus"
      ],
      "metadata": {
        "colab": {
          "base_uri": "https://localhost:8080/"
        },
        "id": "Lcst5CVQeOg6",
        "outputId": "5632c457-ef2b-4a02-d38c-05e9f6a6fcea"
      },
      "execution_count": null,
      "outputs": [
        {
          "output_type": "execute_result",
          "data": {
            "text/plain": [
              "['on the banks of river ganga, there lies the scent of spirituality',\n",
              " 'an institute where people can store extra cash or money.',\n",
              " 'the land alongside or sloping down to a river or lakewhat you do defines you',\n",
              " 'your deeds define you',\n",
              " 'once upon a time there lived a king.',\n",
              " 'who is your queen?',\n",
              " 'he is desperate',\n",
              " 'is he not desperate?']"
            ]
          },
          "metadata": {},
          "execution_count": 6
        }
      ]
    },
    {
      "cell_type": "code",
      "source": [
        "corpus_tf_idf = get_tf_idf_vectors(lower_case_corpus)\n",
        "corpus_tf_idf"
      ],
      "metadata": {
        "colab": {
          "base_uri": "https://localhost:8080/"
        },
        "id": "MJ1YRJM6YUd-",
        "outputId": "893bfbca-1b94-4168-97f2-8430e4caf4c9"
      },
      "execution_count": null,
      "outputs": [
        {
          "output_type": "execute_result",
          "data": {
            "text/plain": [
              "array([[0.        , 0.        , 0.2652394 , 0.        , 0.        ,\n",
              "        0.        , 0.        , 0.        , 0.        , 0.        ,\n",
              "        0.        , 0.        , 0.2652394 , 0.        , 0.        ,\n",
              "        0.        , 0.        , 0.        , 0.        , 0.2652394 ,\n",
              "        0.        , 0.        , 0.        , 0.53047881, 0.2652394 ,\n",
              "        0.        , 0.        , 0.        , 0.        , 0.22229132,\n",
              "        0.2652394 , 0.        , 0.2652394 , 0.        , 0.44458264,\n",
              "        0.22229132, 0.        , 0.        , 0.        , 0.        ,\n",
              "        0.        , 0.        , 0.        ],\n",
              "       [0.        , 0.32104135, 0.        , 0.32104135, 0.32104135,\n",
              "        0.        , 0.        , 0.        , 0.        , 0.        ,\n",
              "        0.        , 0.32104135, 0.        , 0.        , 0.32104135,\n",
              "        0.        , 0.        , 0.        , 0.        , 0.        ,\n",
              "        0.        , 0.32104135, 0.        , 0.        , 0.        ,\n",
              "        0.        , 0.26905771, 0.32104135, 0.        , 0.        ,\n",
              "        0.        , 0.        , 0.        , 0.32104135, 0.        ,\n",
              "        0.        , 0.        , 0.        , 0.        , 0.32104135,\n",
              "        0.        , 0.        , 0.        ],\n",
              "       [0.25799474, 0.        , 0.        , 0.        , 0.        ,\n",
              "        0.        , 0.        , 0.25799474, 0.        , 0.25799474,\n",
              "        0.25799474, 0.        , 0.        , 0.        , 0.        ,\n",
              "        0.        , 0.        , 0.25799474, 0.25799474, 0.        ,\n",
              "        0.        , 0.        , 0.        , 0.        , 0.        ,\n",
              "        0.        , 0.43243946, 0.        , 0.        , 0.21621973,\n",
              "        0.        , 0.25799474, 0.        , 0.        , 0.21621973,\n",
              "        0.        , 0.        , 0.25799474, 0.        , 0.        ,\n",
              "        0.        , 0.43243946, 0.        ],\n",
              "       [0.        , 0.        , 0.        , 0.        , 0.        ,\n",
              "        0.54194774, 0.54194774, 0.        , 0.        , 0.        ,\n",
              "        0.        , 0.        , 0.        , 0.        , 0.        ,\n",
              "        0.        , 0.        , 0.        , 0.        , 0.        ,\n",
              "        0.        , 0.        , 0.        , 0.        , 0.        ,\n",
              "        0.        , 0.        , 0.        , 0.        , 0.        ,\n",
              "        0.        , 0.        , 0.        , 0.        , 0.        ,\n",
              "        0.        , 0.        , 0.        , 0.        , 0.        ,\n",
              "        0.        , 0.4541945 , 0.4541945 ],\n",
              "       [0.        , 0.        , 0.        , 0.        , 0.        ,\n",
              "        0.        , 0.        , 0.        , 0.        , 0.        ,\n",
              "        0.        , 0.        , 0.        , 0.        , 0.        ,\n",
              "        0.        , 0.41876668, 0.        , 0.        , 0.        ,\n",
              "        0.41876668, 0.        , 0.        , 0.        , 0.        ,\n",
              "        0.41876668, 0.        , 0.        , 0.        , 0.        ,\n",
              "        0.        , 0.        , 0.        , 0.        , 0.        ,\n",
              "        0.35095916, 0.41876668, 0.        , 0.41876668, 0.        ,\n",
              "        0.        , 0.        , 0.        ],\n",
              "       [0.        , 0.        , 0.        , 0.        , 0.        ,\n",
              "        0.        , 0.        , 0.        , 0.        , 0.        ,\n",
              "        0.        , 0.        , 0.        , 0.        , 0.        ,\n",
              "        0.40268307, 0.        , 0.        , 0.        , 0.        ,\n",
              "        0.        , 0.        , 0.        , 0.        , 0.        ,\n",
              "        0.        , 0.        , 0.        , 0.55681304, 0.        ,\n",
              "        0.        , 0.        , 0.        , 0.        , 0.        ,\n",
              "        0.        , 0.        , 0.        , 0.        , 0.        ,\n",
              "        0.55681304, 0.        , 0.46665279],\n",
              "       [0.        , 0.        , 0.        , 0.        , 0.        ,\n",
              "        0.        , 0.        , 0.        , 0.60361261, 0.        ,\n",
              "        0.        , 0.        , 0.        , 0.60361261, 0.        ,\n",
              "        0.52086816, 0.        , 0.        , 0.        , 0.        ,\n",
              "        0.        , 0.        , 0.        , 0.        , 0.        ,\n",
              "        0.        , 0.        , 0.        , 0.        , 0.        ,\n",
              "        0.        , 0.        , 0.        , 0.        , 0.        ,\n",
              "        0.        , 0.        , 0.        , 0.        , 0.        ,\n",
              "        0.        , 0.        , 0.        ],\n",
              "       [0.        , 0.        , 0.        , 0.        , 0.        ,\n",
              "        0.        , 0.        , 0.        , 0.48979792, 0.        ,\n",
              "        0.        , 0.        , 0.        , 0.48979792, 0.        ,\n",
              "        0.42265542, 0.        , 0.        , 0.        , 0.        ,\n",
              "        0.        , 0.        , 0.58442997, 0.        , 0.        ,\n",
              "        0.        , 0.        , 0.        , 0.        , 0.        ,\n",
              "        0.        , 0.        , 0.        , 0.        , 0.        ,\n",
              "        0.        , 0.        , 0.        , 0.        , 0.        ,\n",
              "        0.        , 0.        , 0.        ]])"
            ]
          },
          "metadata": {},
          "execution_count": 7
        }
      ]
    },
    {
      "cell_type": "code",
      "source": [
        "sent_vector = corpus_tf_idf[0]\n",
        "sent_vector"
      ],
      "metadata": {
        "colab": {
          "base_uri": "https://localhost:8080/"
        },
        "id": "42ppd1o5YXVF",
        "outputId": "7f32378c-50ed-41ba-aa9c-0c8ded46aa4e"
      },
      "execution_count": null,
      "outputs": [
        {
          "output_type": "execute_result",
          "data": {
            "text/plain": [
              "array([0.        , 0.        , 0.2652394 , 0.        , 0.        ,\n",
              "       0.        , 0.        , 0.        , 0.        , 0.        ,\n",
              "       0.        , 0.        , 0.2652394 , 0.        , 0.        ,\n",
              "       0.        , 0.        , 0.        , 0.        , 0.2652394 ,\n",
              "       0.        , 0.        , 0.        , 0.53047881, 0.2652394 ,\n",
              "       0.        , 0.        , 0.        , 0.        , 0.22229132,\n",
              "       0.2652394 , 0.        , 0.2652394 , 0.        , 0.44458264,\n",
              "       0.22229132, 0.        , 0.        , 0.        , 0.        ,\n",
              "       0.        , 0.        , 0.        ])"
            ]
          },
          "metadata": {},
          "execution_count": 8
        }
      ]
    },
    {
      "cell_type": "code",
      "source": [
        "deffinition_vectors = {'def1': corpus_tf_idf[1], 'def2': corpus_tf_idf[2]}\n",
        "deffinition_vectors"
      ],
      "metadata": {
        "colab": {
          "base_uri": "https://localhost:8080/"
        },
        "id": "YfxJsLPIYaQm",
        "outputId": "cd3a71bf-e1c5-433f-96d4-c7ea420f88a1"
      },
      "execution_count": null,
      "outputs": [
        {
          "output_type": "execute_result",
          "data": {
            "text/plain": [
              "{'def1': array([0.        , 0.32104135, 0.        , 0.32104135, 0.32104135,\n",
              "        0.        , 0.        , 0.        , 0.        , 0.        ,\n",
              "        0.        , 0.32104135, 0.        , 0.        , 0.32104135,\n",
              "        0.        , 0.        , 0.        , 0.        , 0.        ,\n",
              "        0.        , 0.32104135, 0.        , 0.        , 0.        ,\n",
              "        0.        , 0.26905771, 0.32104135, 0.        , 0.        ,\n",
              "        0.        , 0.        , 0.        , 0.32104135, 0.        ,\n",
              "        0.        , 0.        , 0.        , 0.        , 0.32104135,\n",
              "        0.        , 0.        , 0.        ]),\n",
              " 'def2': array([0.25799474, 0.        , 0.        , 0.        , 0.        ,\n",
              "        0.        , 0.        , 0.25799474, 0.        , 0.25799474,\n",
              "        0.25799474, 0.        , 0.        , 0.        , 0.        ,\n",
              "        0.        , 0.        , 0.25799474, 0.25799474, 0.        ,\n",
              "        0.        , 0.        , 0.        , 0.        , 0.        ,\n",
              "        0.        , 0.43243946, 0.        , 0.        , 0.21621973,\n",
              "        0.        , 0.25799474, 0.        , 0.        , 0.21621973,\n",
              "        0.        , 0.        , 0.25799474, 0.        , 0.        ,\n",
              "        0.        , 0.43243946, 0.        ])}"
            ]
          },
          "metadata": {},
          "execution_count": 9
        }
      ]
    },
    {
      "cell_type": "code",
      "source": [
        "deffinition_id, score = find_sentence_definition(sent_vector, deffinition_vectors)\n",
        "deffinition_id, score"
      ],
      "metadata": {
        "colab": {
          "base_uri": "https://localhost:8080/"
        },
        "id": "FXrKWBuPYccp",
        "outputId": "6d4ba384-8ac4-4df8-99cd-2e095a0ea79b"
      },
      "execution_count": null,
      "outputs": [
        {
          "output_type": "execute_result",
          "data": {
            "text/plain": [
              "('def2', array([[0.14419131]]))"
            ]
          },
          "metadata": {},
          "execution_count": 10
        }
      ]
    },
    {
      "cell_type": "code",
      "source": [
        "print(\"The definition of word 'bank' is '{}' with a similarity of {}\".format(deffinition_id, score))"
      ],
      "metadata": {
        "colab": {
          "base_uri": "https://localhost:8080/"
        },
        "id": "Sbyqbim8NdnP",
        "outputId": "dc2c9fd9-47bf-4934-d0ce-093e2361b326"
      },
      "execution_count": null,
      "outputs": [
        {
          "output_type": "stream",
          "name": "stdout",
          "text": [
            "The definition of word 'bank' is 'def2' with a similarity of [[0.14419131]]\n"
          ]
        }
      ]
    },
    {
      "cell_type": "code",
      "source": [],
      "metadata": {
        "id": "WQJfGVawN3fk"
      },
      "execution_count": null,
      "outputs": []
    }
  ]
}